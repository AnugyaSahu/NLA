{
  "nbformat": 4,
  "nbformat_minor": 0,
  "metadata": {
    "colab": {
      "name": "QR-HR.ipynb",
      "provenance": []
    },
    "kernelspec": {
      "name": "python3",
      "display_name": "Python 3"
    },
    "language_info": {
      "name": "python"
    }
  },
  "cells": [
    {
      "cell_type": "code",
      "metadata": {
        "colab": {
          "base_uri": "https://localhost:8080/"
        },
        "id": "Xqm6XdWaA0c2",
        "outputId": "1b90e361-ed48-4fbc-923a-518de44be1fa"
      },
      "source": [
        "import numpy as np\n",
        "A = []\n",
        "# insert number of rows and columns respectively such that m >= n\n",
        "m, n = [int(_) for _ in input().split()]\n",
        "for _ in range(m):\n",
        "  a1 = [int(__) for __ in input().split()] #insert row wise elements with space\n",
        "  A.append(a1)\n",
        "A = np.array(A)\n",
        "sign = lambda x: 1 if x >= 0 else -1\n",
        "Q1 = np.identity(m)\n",
        "for i in range(n):\n",
        "  u = (A[i:, i:][:,0]/np.linalg.norm(A[i:, i:][:,0])).reshape(m-i,1)\n",
        "  v = (-sign(A[i:, i:][0][0])*np.array(([1] + [0]*(m-i-1)))).reshape(m-i, 1)\n",
        "  w = (u-v)/np.linalg.norm(u-v)\n",
        "  w = w.reshape(m-i, 1)\n",
        "  H = np.identity(m-i)-2*np.matmul(w, w.T)\n",
        "  Q = np.identity(m)\n",
        "  for j in range(i,m):\n",
        "    for k in range(i, m):\n",
        "      Q[j][k] = H[j-i][k-i]\n",
        "  A = np.matmul(Q, A)\n",
        "  Q1 = np.matmul(Q1, Q)\n",
        "print(\"The upper triangular matrix R is\", A)\n",
        "print(\"The orthogonal matrix Q\",Q1)\n",
        "print(np.matmul(Q1,A))"
      ],
      "execution_count": 3,
      "outputs": [
        {
          "output_type": "stream",
          "name": "stdout",
          "text": [
            "4 3\n",
            "3 4 5\n",
            "-6 -4 2\n",
            "1 8 2\n",
            "7 8 9\n",
            "The upper triangular matrix R is [[-9.74679434e+00 -1.02597835e+01 -6.97665279e+00]\n",
            " [-1.72097312e-16 -7.39843511e+00 -3.84149515e+00]\n",
            " [ 2.71861402e-16 -1.14914577e-15  7.11120459e+00]\n",
            " [ 6.06740584e-16  3.77436465e-16 -1.66592209e-16]]\n",
            "The orthogonal matrix Q [[-0.30779351 -0.11382208  0.339659   -0.88144169]\n",
            " [ 0.61558701 -0.31301072  0.71609636  0.1014048 ]\n",
            " [-0.10259784 -0.93903215 -0.3266784   0.03120148]\n",
            " [-0.71818485 -0.08536656  0.51489708  0.46022177]]\n",
            "[[ 3.  4.  5.]\n",
            " [-6. -4.  2.]\n",
            " [ 1.  8.  2.]\n",
            " [ 7.  8.  9.]]\n"
          ]
        }
      ]
    }
  ]
}