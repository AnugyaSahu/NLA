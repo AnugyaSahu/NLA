{
  "nbformat": 4,
  "nbformat_minor": 0,
  "metadata": {
    "colab": {
      "name": "Hessenberg reduction.ipynb",
      "provenance": []
    },
    "kernelspec": {
      "name": "python3",
      "display_name": "Python 3"
    },
    "language_info": {
      "name": "python"
    }
  },
  "cells": [
    {
      "cell_type": "code",
      "metadata": {
        "colab": {
          "base_uri": "https://localhost:8080/"
        },
        "id": "rmiahZ4y6t37",
        "outputId": "8e15c23c-a3b3-4e89-e34c-07bec17f6718"
      },
      "source": [
        "import numpy as np\n",
        "n = int(input()) # n >= 3\n",
        "A = []\n",
        "for _ in range(n):\n",
        "  a = [int(i) for i in input().split()]\n",
        "  A.append(a)\n",
        "A = np.array(A)\n",
        "sign = lambda x: 1 if x >= 0 else -1\n",
        "for i in range(n-2):\n",
        "  u = (A[i+1:,i]/np.linalg.norm(A[i+1:,i])).reshape(n-i-1,1)\n",
        "  v = (-sign(A[i+1:, i:][0][0])*np.array(([1] + [0]*(n-i-2)))).reshape(n-i-1, 1)\n",
        "  w = (u-v)/np.linalg.norm(u-v)\n",
        "  w = w.reshape(n-i-1, 1)\n",
        "  H = np.identity(n-i-1)-2*np.matmul(w, w.T)\n",
        "  H1 = np.identity(n)\n",
        "  for j in range(i+1, n):\n",
        "    for k in range(i+1, n):\n",
        "      H1[j][k] = H[j-i-1][k-i-1]\n",
        "  A = np.matmul(np.matmul(H1, A), H1.T)\n",
        "print(A)"
      ],
      "execution_count": 1,
      "outputs": [
        {
          "output_type": "stream",
          "name": "stdout",
          "text": [
            "5\n",
            "1 2 3 4 5\n",
            "2 3 4 5 6\n",
            "3 4 5 6 7\n",
            "4 5 6 7 8\n",
            "5 6 7 8 9\n",
            "[[ 1.00000000e+00 -7.34846923e+00 -3.56284212e-17  1.91233952e-16\n",
            "   3.91423609e-16]\n",
            " [-7.34846923e+00  2.43703704e+01  3.31269330e+00  5.22479211e-16\n",
            "  -1.50388931e-15]\n",
            " [-3.56284212e-17  3.31269330e+00 -3.70370370e-01 -6.89797254e-16\n",
            "  -6.28391139e-16]\n",
            " [ 1.91233952e-16 -1.06258912e-16 -1.04318222e-16  8.75395742e-17\n",
            "  -1.35613793e-16]\n",
            " [ 3.91423609e-16 -5.80307068e-18  2.30453550e-32 -1.75760208e-16\n",
            "   1.20270636e-16]]\n"
          ]
        }
      ]
    }
  ]
}