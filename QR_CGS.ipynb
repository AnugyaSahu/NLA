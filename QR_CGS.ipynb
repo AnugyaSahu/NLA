{
  "nbformat": 4,
  "nbformat_minor": 0,
  "metadata": {
    "colab": {
      "name": "QR-CGS.ipynb",
      "provenance": []
    },
    "kernelspec": {
      "name": "python3",
      "display_name": "Python 3"
    },
    "language_info": {
      "name": "python"
    }
  },
  "cells": [
    {
      "cell_type": "code",
      "metadata": {
        "colab": {
          "base_uri": "https://localhost:8080/"
        },
        "id": "Xqm6XdWaA0c2",
        "outputId": "c78ee809-4829-448e-a732-5c23f8d4a293"
      },
      "source": [
        "import numpy as np\n",
        "#QR with Gram-Schmidt orthogonalisation\n",
        "# for square matrices (n, n)\n",
        "n = int(input()) #any integer input\n",
        "v=[]\n",
        "for _ in range(n):\n",
        "  v_ = [int(i) for i in input().split()]\n",
        "  #give columns of matrix as input with spaces\n",
        "  v.append(v_)\n",
        "w = [v[0]]\n",
        "for j in range(1, n):\n",
        "  s = 0\n",
        "  for k in range(j):\n",
        "    s += np.dot((np.dot(v[j], w[k])/np.linalg.norm(w[k])**2), w[k])\n",
        "  w.append(list(v[j] - s))\n",
        "# w = orthogonal set of vectors\n",
        "q = []\n",
        "for m in range(n):\n",
        "  q.append(w[m]/np.linalg.norm(w[m])) #columns of Q\n",
        "# dividing the vectors by their norm to make it orthogonal\n",
        "print(\"Orthogonal matrix Q =\\n\", np.array(q).T) \n",
        "# R = Q transpose multiplied by A\n",
        "print(\"Upper-triangular matrix R = \\n\", np.matmul(np.array(q), np.array(v).T))"
      ],
      "execution_count": 2,
      "outputs": [
        {
          "output_type": "stream",
          "name": "stdout",
          "text": [
            "4\n",
            "3 4 5\n",
            "1 8 2\n",
            "7 8 9\n",
            "-3 -2 1\n",
            "Orthogonal matrix Q =\n",
            " [[ 0.42426407 -0.31843918  0.84770071  0.76626103]\n",
            " [ 0.56568542  0.82419551  0.02649065  0.28734789]\n",
            " [ 0.70710678 -0.46829291 -0.52981294  0.57469577]]\n",
            "Upper-triangular matrix R = \n",
            " [[ 7.07106781e+00  6.36396103e+00  1.38592929e+01 -1.69705627e+00]\n",
            " [ 3.88578059e-16  5.33853913e+00  1.49853730e-01 -1.16136641e+00]\n",
            " [ 9.99200722e-15  5.77315973e-15  1.37751365e+00 -3.12589636e+00]\n",
            " [ 6.32165348e+00  4.21443565e+00  1.28348722e+01 -2.29878308e+00]]\n"
          ]
        }
      ]
    },
    {
      "cell_type": "code",
      "metadata": {
        "id": "4bad_yb7A6rc"
      },
      "source": [
        ""
      ],
      "execution_count": null,
      "outputs": []
    }
  ]
}