{
  "nbformat": 4,
  "nbformat_minor": 0,
  "metadata": {
    "colab": {
      "name": "QR-GR.ipynb",
      "provenance": []
    },
    "kernelspec": {
      "name": "python3",
      "display_name": "Python 3"
    },
    "language_info": {
      "name": "python"
    }
  },
  "cells": [
    {
      "cell_type": "code",
      "metadata": {
        "colab": {
          "base_uri": "https://localhost:8080/"
        },
        "id": "Xqm6XdWaA0c2",
        "outputId": "cd0c2978-220a-4e53-b554-a2dac1e5f8f8"
      },
      "source": [
        "import numpy as np\n",
        "import math\n",
        "A = []\n",
        "# insert number of rows and columns respectively such that m >= n\n",
        "m, n = [int(_) for _ in input().split()]\n",
        "for _ in range(m):\n",
        "  a1 = [int(__) for __ in input().split()] #insert row wise elements with space\n",
        "  A.append(a1)\n",
        "A = np.array(A)\n",
        "Q = np.identity(m)\n",
        "for i in range(n):\n",
        "  for j in range(m-1,i,-1):\n",
        "    if A[j][i] == 0:\n",
        "      c = 1\n",
        "      s = 0\n",
        "    elif abs(A[j-1][i]) > abs(A[j][i]):\n",
        "      t = A[j][i]/A[j-1][i]\n",
        "      c = 1/math.sqrt(1+t**2)\n",
        "      s = c*t\n",
        "    elif abs(A[j-1][i]) < abs(A[j][i]):\n",
        "      t = A[j-1][i]/A[j][i]\n",
        "      s = 1/math.sqrt(1+t**2)\n",
        "      c = s*t\n",
        "    g = np.identity(m)\n",
        "    g[j-1][j-1], g[j][j] = c, c\n",
        "    g[j-1][j], g[j][j-1] = s, -s\n",
        "    A = np.matmul(g, A)\n",
        "    Q = np.matmul(Q, g.T)\n",
        "print(\"The upper triangular matrix R is \\n\", A)\n",
        "print(\"The orthogonal matrix Q \\n\",Q)"
      ],
      "execution_count": 4,
      "outputs": [
        {
          "output_type": "stream",
          "name": "stdout",
          "text": [
            "4 3\n",
            "3 4 5\n",
            "-6 -4 2\n",
            "1 8 2\n",
            "7 8 9\n",
            "The upper triangular matrix R is \n",
            " [[ 9.74679434e+00  1.02597835e+01  6.97665279e+00]\n",
            " [-5.00093590e-16 -7.39843511e+00 -3.84149515e+00]\n",
            " [ 7.93908373e-16  7.76692899e-17  7.11120459e+00]\n",
            " [ 1.61193976e-16  6.03323625e-17 -1.44184284e-16]]\n",
            "The orthogonal matrix Q \n",
            " [[ 0.30779351 -0.11382208  0.339659   -0.88144169]\n",
            " [-0.61558701 -0.31301072  0.71609636  0.1014048 ]\n",
            " [ 0.10259784 -0.93903215 -0.3266784   0.03120148]\n",
            " [ 0.71818485 -0.08536656  0.51489708  0.46022177]]\n"
          ]
        }
      ]
    },
    {
      "cell_type": "code",
      "metadata": {
        "id": "3u-BzZiSD6XC"
      },
      "source": [
        ""
      ],
      "execution_count": null,
      "outputs": []
    }
  ]
}